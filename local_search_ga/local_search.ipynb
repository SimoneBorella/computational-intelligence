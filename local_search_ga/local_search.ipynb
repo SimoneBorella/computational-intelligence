{
 "cells": [
  {
   "cell_type": "markdown",
   "metadata": {},
   "source": [
    "# Local search\n",
    "\n",
    "Write a local-search algorithm (eg. an EA) able to solve the *Problem* instances 1, 2, 5, and 10 on a 1000-loci genomes, using a minimum number of fitness calls."
   ]
  },
  {
   "cell_type": "code",
   "execution_count": 865,
   "metadata": {},
   "outputs": [],
   "source": [
    "import random\n",
    "import local_search_lib\n",
    "from tqdm import tqdm"
   ]
  },
  {
   "cell_type": "code",
   "execution_count": null,
   "metadata": {},
   "outputs": [],
   "source": [
    "fitness = local_search_lib.make_problem(1)\n",
    "for n in range(10):\n",
    "    ind = random.choices([0, 1], k=50)\n",
    "    print(f\"{''.join(str(g) for g in ind)}: {fitness(ind):.2f}\")\n",
    "\n",
    "print(fitness.calls)"
   ]
  },
  {
   "cell_type": "markdown",
   "metadata": {},
   "source": [
    "# Genetic Algorithm"
   ]
  },
  {
   "cell_type": "code",
   "execution_count": 867,
   "metadata": {},
   "outputs": [],
   "source": [
    "# GA parameters\n",
    "LOCI = 1000\n",
    "POPULATION_SIZE = 180\n",
    "N_PARENTS = POPULATION_SIZE//3\n",
    "MUTATION_RATE = 0.5\n",
    "TOURNAMENT_SIZE = POPULATION_SIZE//3\n",
    "K = 0.7\n",
    "CONVERGENCE_GEN = 100\n",
    "CONVERGENCE_THRESHOLD = 0.01"
   ]
  },
  {
   "cell_type": "markdown",
   "metadata": {},
   "source": [
    "# Generate random population"
   ]
  },
  {
   "cell_type": "code",
   "execution_count": 868,
   "metadata": {},
   "outputs": [],
   "source": [
    "def generate_random_individual():\n",
    "    genome = random.choices([0, 1], k=LOCI)\n",
    "    return {\n",
    "        \"genome\": genome,\n",
    "        \"fitness\": 0,\n",
    "        \"avg_distance\": 0\n",
    "    }\n",
    "\n",
    "def generate_population(population_size=POPULATION_SIZE):\n",
    "    population = [generate_random_individual() for _ in range(population_size)]\n",
    "    return population"
   ]
  },
  {
   "cell_type": "markdown",
   "metadata": {},
   "source": [
    "# Fitness evaluation"
   ]
  },
  {
   "cell_type": "code",
   "execution_count": 869,
   "metadata": {},
   "outputs": [],
   "source": [
    "def evaluate_fitness(population, fitness):\n",
    "    for individual in population:\n",
    "        individual[\"fitness\"] = fitness(individual[\"genome\"])\n",
    "    return population"
   ]
  },
  {
   "cell_type": "markdown",
   "metadata": {},
   "source": [
    "# Mutation"
   ]
  },
  {
   "cell_type": "code",
   "execution_count": 870,
   "metadata": {},
   "outputs": [],
   "source": [
    "def mutate(genome, mutation_rate):\n",
    "    if random.random() < mutation_rate:\n",
    "        i = random.randint(0, len(genome)-1)\n",
    "        genome[i] = 1 - genome[i]\n",
    "    return genome\n",
    "\n",
    "def mutate_population(population, mutation_rate=MUTATION_RATE):\n",
    "    for i in population:\n",
    "        i[\"genome\"] = mutate(i[\"genome\"], mutation_rate)\n",
    "    return population"
   ]
  },
  {
   "cell_type": "markdown",
   "metadata": {},
   "source": [
    "# Crossover"
   ]
  },
  {
   "cell_type": "code",
   "execution_count": 871,
   "metadata": {},
   "outputs": [],
   "source": [
    "def reproduce(parent1, parent2):\n",
    "    new_genome=[]\n",
    "    for p1, p2 in zip(parent1[\"genome\"], parent2[\"genome\"]):\n",
    "        new_genome.append(random.choice((p1, p2)))\n",
    "    return {\n",
    "        \"genome\": new_genome,\n",
    "        \"fitness\": 0,\n",
    "        \"avg_distance\": 0\n",
    "        }\n",
    "\n",
    "def reproduce_population(parents, population_size=POPULATION_SIZE):\n",
    "    population = []\n",
    "    while len(population) + len(parents) < population_size:\n",
    "        parent1, parent2 = random.sample(parents, 2)\n",
    "        population.append(reproduce(parent1, parent2))\n",
    "    return parents + population"
   ]
  },
  {
   "cell_type": "markdown",
   "metadata": {},
   "source": [
    "# Diversity evaluation"
   ]
  },
  {
   "cell_type": "code",
   "execution_count": 872,
   "metadata": {},
   "outputs": [],
   "source": [
    "def hamming_distance(genome1, genome2):\n",
    "    return sum(al1 != al2 for al1, al2 in zip(genome1, genome2))/LOCI\n",
    "\n",
    "\n",
    "def evaluate_diversity(population):\n",
    "    for individual in population:\n",
    "        individual[\"avg_distance\"] = 0\n",
    "\n",
    "    for i in range(len(population)):\n",
    "        for j in range(i + 1, len(population)):\n",
    "            dist = hamming_distance(population[i][\"genome\"], population[j][\"genome\"])\n",
    "            population[i][\"avg_distance\"] += dist\n",
    "            population[j][\"avg_distance\"] += dist\n",
    "    \n",
    "    for individual in population:\n",
    "        individual[\"avg_distance\"] /= (len(population)-1)\n",
    "\n",
    "    return population"
   ]
  },
  {
   "cell_type": "markdown",
   "metadata": {},
   "source": [
    "# Parent selection"
   ]
  },
  {
   "cell_type": "code",
   "execution_count": 873,
   "metadata": {},
   "outputs": [],
   "source": [
    "def tournament_selection(population, tournament_size=TOURNAMENT_SIZE, k=K):\n",
    "    individuals = random.sample(population, tournament_size)\n",
    "    selected_i = max(individuals, key=lambda i: (k*i[\"fitness\"] + (k-1)*(1-i[\"avg_distance\"])))\n",
    "    return selected_i\n",
    "\n",
    "\n",
    "def parent_selection(population, n_parents=N_PARENTS, tournament_size=TOURNAMENT_SIZE, k=K):\n",
    "    selected_parents = []\n",
    "    for _ in range(n_parents):\n",
    "        selected_parents.append(tournament_selection(population, tournament_size, k))\n",
    "    return selected_parents"
   ]
  },
  {
   "cell_type": "markdown",
   "metadata": {},
   "source": [
    "# Plot function"
   ]
  },
  {
   "cell_type": "code",
   "execution_count": 874,
   "metadata": {},
   "outputs": [
    {
     "data": {
      "text/plain": [
       "<Figure size 640x480 with 0 Axes>"
      ]
     },
     "metadata": {},
     "output_type": "display_data"
    }
   ],
   "source": [
    "import matplotlib.pyplot as plt\n",
    "from matplotlib.animation import FuncAnimation\n",
    "from IPython import display\n",
    "import seaborn as sns\n",
    "\n",
    "plt.ion()\n",
    "plt.draw()\n",
    "plt.pause(1)\n",
    "\n",
    "def plot1(max_fitness, min_fitness, mean_fitness, diversity_hist):\n",
    "    display.clear_output(wait=True)\n",
    "    plt.clf()\n",
    "    plt.title(\"Fitness\")\n",
    "    plt.xlabel(\"Generation\")\n",
    "    plt.ylabel(\"Score\")\n",
    "    plt.plot(max_fitness, label=\"Max scores\")\n",
    "    plt.plot(min_fitness, label=\"Min scores\")\n",
    "    plt.plot(mean_fitness, label=\"Mean scores\")\n",
    "    plt.plot(diversity_hist, label=\"Diversity\")\n",
    "    plt.ylim(ymin=0)\n",
    "    plt.text(len(max_fitness)-1, max_fitness[-1], str(max_fitness[-1]))\n",
    "    # plt.text(len(min_fitness)-1, min_fitness[-1], str(min_fitness[-1]))\n",
    "    # plt.text(len(mean_fitness)-1, mean_fitness[-1], str(mean_fitness[-1]))\n",
    "    plt.text(len(diversity_hist)-1, diversity_hist[-1], str(diversity_hist[-1]))\n",
    "    plt.legend()\n",
    "    plt.pause(0.25)"
   ]
  },
  {
   "cell_type": "markdown",
   "metadata": {},
   "source": [
    "# Run GA algorithm"
   ]
  },
  {
   "cell_type": "code",
   "execution_count": 875,
   "metadata": {},
   "outputs": [],
   "source": [
    "def simulation(problem_instance=1, population_size=POPULATION_SIZE, n_parents=N_PARENTS, k=K, tournament_size=TOURNAMENT_SIZE, mutation_rate=MUTATION_RATE, plot=True):\n",
    "    fitness = local_search_lib.make_problem(problem_instance)\n",
    "    \n",
    "    population = generate_population(population_size)\n",
    "    population = mutate_population(population, mutation_rate)\n",
    "\n",
    "    max_hist = []\n",
    "    mean_hist = []\n",
    "    min_hist = []\n",
    "    fitness_hist = []\n",
    "    fitness_calls_hist = []\n",
    "    diversity_hist = []\n",
    "\n",
    "    counter_convergence = 0\n",
    "    last_best_fitness = None\n",
    "    \n",
    "    while True:\n",
    "        population = evaluate_fitness(population, fitness)\n",
    "        population = evaluate_diversity(population)\n",
    "\n",
    "        # Plot\n",
    "        fitness_scores = [i[\"fitness\"] for i in population]\n",
    "        fitness_hist.append(fitness_scores)\n",
    "        max_hist.append(max(fitness_scores))\n",
    "        mean_hist.append(sum(fitness_scores)/len(fitness_scores))\n",
    "        min_hist.append(min(fitness_scores))\n",
    "        fitness_calls_hist.append(fitness.calls)\n",
    "        diversity_hist.append(sum(i[\"avg_distance\"] for i in population)/len(population))\n",
    "        \n",
    "        if plot:\n",
    "            plot1(max_hist, min_hist, mean_hist, diversity_hist)\n",
    "\n",
    "        best_fitness = max(fitness_scores)\n",
    "        if last_best_fitness and abs((best_fitness - last_best_fitness)) < CONVERGENCE_THRESHOLD:\n",
    "            counter_convergence += 1\n",
    "        else:\n",
    "            counter_convergence = 0\n",
    "            last_best_fitness = best_fitness\n",
    "\n",
    "        if max(fitness_scores) == 1.0 or counter_convergence > CONVERGENCE_GEN:\n",
    "            break\n",
    "\n",
    "        parents = parent_selection(population, n_parents, tournament_size, k)\n",
    "        population = reproduce_population(parents)\n",
    "        population = mutate_population(population, mutation_rate)\n",
    "        \n",
    "        \n",
    "    return population, fitness_hist, max_hist, mean_hist, min_hist, fitness_calls_hist, diversity_hist\n",
    "    "
   ]
  },
  {
   "cell_type": "markdown",
   "metadata": {},
   "source": [
    "# Simulation"
   ]
  },
  {
   "cell_type": "code",
   "execution_count": null,
   "metadata": {},
   "outputs": [],
   "source": [
    "population, fitness_hist, max_hist, mean_hist, min_hist, fitness_calls_hist, diversity_hist = simulation(problem_instance=10, population_size=500, k=0.7, plot=False)\n",
    "plot1(max_hist, min_hist, mean_hist, diversity_hist)\n",
    "max_fitness = max(fitness_hist, key=lambda fs:max(fs))\n",
    "i = fitness_hist.index(max_fitness)\n",
    "best_individual = max(population, key=lambda i: i[\"fitness\"])\n",
    "\n",
    "print(f\"Number of generations: {len(fitness_calls_hist)}\")\n",
    "\n",
    "print(f\"Number of fitness calls to find max fitness: {fitness_calls_hist[i]}\")\n",
    "print(f\"Best individual: {''.join(str(g) for g in best_individual['genome'])}\")\n",
    "print(f\"Fitness: {best_individual['fitness']}\")\n"
   ]
  },
  {
   "cell_type": "markdown",
   "metadata": {},
   "source": [
    "# Results\n",
    "## Problem instance = 1\n",
    "Population = 180\n",
    "\n",
    "K = 0.7\n",
    "\n",
    "Number of generations: 199\n",
    "\n",
    "Number of fitness calls to find max fitness: 35820\n",
    "\n",
    "Best individual: 1111111111111111111111111111111111111111111111111111111111111111111111111111111111111111111111111111111111111111111111111111111111111111111111111111111111111111111111111111111111111111111111111111111111111111111111111111111111111111111111111111111111111111111111111111111111111111111111111111111111111111111111111111111111111111111111111111111111111111111111111111111111111111111111111111111111111111111111111111111111111111111111111111111111111111111111111111111111111111111111111111111111111111111111111111111111111111111111111111111111111111111111111111111111111111111111111111111111111111111111111111111111111111111111111111111111111111111111111111111111111111111111111111111111111111111111111111111111111111111111111111111111111111111111111111111111111111111111111111111111111111111111111111111111111111111111111111111111111111111111111111111111111111111111111111111111111111111111111111111111111111111111111111111111111111111111111111111111111111111111111111111111111111111111111111111111111111\n",
    "\n",
    "Fitness: 1.0\n",
    "\n",
    "## Problem instance = 2\n",
    "Population = 300\n",
    "\n",
    "K = 0.7\n",
    "\n",
    "Number of generations: 418\n",
    "\n",
    "Number of fitness calls to find max fitness: 68340\n",
    "\n",
    "Best individual: 1111011111111111111011111101011111111011111111111111111111111111111111011111111111111011111111111101111111111111111111111111111110101101111111111111111111100111111111111111111111110111111111111111111111111110111111011111111011010111111111111111111111111101111111111111111111111111111111111111101111111111011011111111111110011111111111111111111111111111111111111111111111111111111111111011111111111111111111111111111111110111111111111011111111111111111111111111111111110111111011011011111101111111111111111110100011111111111111111001111111111111111111111110111111111111111111111101111111111111111111111111111111111111111111111011111111111111111111110111111111111111110111111111111111111111101111111011111111101011111111111111111111110111110111101111111111101101111111111011011111111111111111110111111111111110111111111101111111111111111111101111100111111111111111111111111111111111111111111111111111111111111111111111111111111110111111110111011111111011111111111111111111111111111111111111111111011111\n",
    "\n",
    "Fitness: 0.934\n",
    "\n",
    "## Problem instance = 5\n",
    "Population = 500\n",
    "\n",
    "K = 0.7\n",
    "\n",
    "Number of generations: 107\n",
    "\n",
    "Number of fitness calls to find max fitness: 19220\n",
    "\n",
    "Best individual: 0101101011100011101011000110100111001010110111101000011110111000111001101010101000101011111000111101011011011000111000111101101011110001100001001010000000111111011001101110001100010111100010110101110110000010001101111111111111011101010010100100111010110000010001010110100001001001001011010101001110001001101010100110000000001110110111000011010010011001011000010110110110100011001010001111001000010111111110001111000110110101101100000011000010001110101000010100000000000101000000110011110011011011101001010010100100111000111111101110001110100000110000001111101010000101100001111001000111000001011110001001011100001011101111011100100101110001010010001011000110010111101001000011101000001010000001100100100101111110000110111101011011110111111011100101100101000011100111101110010100011101010011000001001000001100001101000111110001010011000010010001101000000000001110011010001001100011000000110101111101010000000010100101101111000100110001110011010001101011010110101100101010110000110100111010010001011011\n",
    "\n",
    "Fitness: 0.4313\n",
    "\n",
    "## Problem instance = 10\n",
    "Population = 500\n",
    "\n",
    "K = 0.7\n",
    "\n",
    "Number of generations: 108\n",
    "\n",
    "Number of fitness calls to find max fitness: 17600\n",
    "\n",
    "Best individual: 1001100101100100111001000101010100011011001010001000111000010001101011100110110001011111000011001011000101101011010110111000110011110011011001000111000011110001101011111100101011100111001000100100101110011111000000010111101010010110110100001111001010000001000101111101111001100111110001101100110000101010111111110110011000101100011111100100101011010010100100100100010110001110010011101010100101101110101010110010011001111000101101000111100011001111011010111101100010111001111110111011011111001001000111111111101110011111010111010111100101010101100111110001001000111001010110010001001111011001011111010000011010011100110101100000101001100111100101101001100011110100100000011100011001000000110110011011010011100110000110000101111111100011110010100001010100011011100001110001100111110101111001000011111100101110000101101111100011011000001010110100011010000011110011100101110000101000101010110100110011000111000111110011001110001000011010001110111101110111001011111100000010000011101111111110010001110111\n",
    "\n",
    "Fitness: 0.3367906"
   ]
  }
 ],
 "metadata": {
  "kernelspec": {
   "display_name": "ci-fLJ3OwGs-py3.12",
   "language": "python",
   "name": "python3"
  },
  "language_info": {
   "codemirror_mode": {
    "name": "ipython",
    "version": 3
   },
   "file_extension": ".py",
   "mimetype": "text/x-python",
   "name": "python",
   "nbconvert_exporter": "python",
   "pygments_lexer": "ipython3",
   "version": "3.11.5"
  }
 },
 "nbformat": 4,
 "nbformat_minor": 2
}
