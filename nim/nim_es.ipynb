{
 "cells": [
  {
   "cell_type": "markdown",
   "metadata": {},
   "source": [
    "# Nim game"
   ]
  },
  {
   "cell_type": "code",
   "execution_count": 7,
   "metadata": {},
   "outputs": [],
   "source": [
    "import logging\n",
    "from pprint import pprint, pformat\n",
    "from collections import namedtuple\n",
    "import random\n",
    "from copy import deepcopy"
   ]
  },
  {
   "cell_type": "markdown",
   "metadata": {},
   "source": [
    "## The _Nim_ and _Nimply_ classes\n"
   ]
  },
  {
   "cell_type": "code",
   "execution_count": 8,
   "metadata": {},
   "outputs": [],
   "source": [
    "Nimply = namedtuple(\"Nimply\", \"row, num_objects\")"
   ]
  },
  {
   "cell_type": "code",
   "execution_count": 9,
   "metadata": {},
   "outputs": [],
   "source": [
    "class Nim:\n",
    "    def __init__(self, num_rows: int, k: int = None) -> None:\n",
    "        self._rows = [i * 2 + 1 for i in range(num_rows)]\n",
    "        self._k = k\n",
    "\n",
    "    def __bool__(self):\n",
    "        return sum(self._rows) > 0\n",
    "\n",
    "    def __str__(self):\n",
    "        return \"<\" + \" \".join(str(_) for _ in self._rows) + \">\"\n",
    "\n",
    "    @property\n",
    "    def rows(self) -> tuple:\n",
    "        return tuple(self._rows)\n",
    "\n",
    "    def nimming(self, ply: Nimply) -> None:\n",
    "        row, num_objects = ply\n",
    "        assert self._rows[row] >= num_objects\n",
    "        assert self._k is None or num_objects <= self._k\n",
    "        self._rows[row] -= num_objects"
   ]
  },
  {
   "cell_type": "markdown",
   "metadata": {},
   "source": [
    "- Class `Nim` is defined, with an initializer method `__init__`, three methods `__bool__`, `__str__`, and `nimming`, and a property `rows`.\n",
    "- The `__init__` method takes two arguments: `num_rows` and `k` (with a default value of `None`), and initializes `self._rows` with a list of odd numbers and stores `k` in `self._k`.\n",
    "- The `__bool__` method returns a boolean value indicating whether the sum of the numbers in `self._rows` is greater than 0.\n",
    "- The `__str__` method returns a string representation of the `Nim` instance by joining the numbers in `self._rows` into a string enclosed in angle brackets.\n",
    "- The `rows` property returns a tuple containing the numbers in `self._rows`.\n",
    "- The `nimming` method takes a `Nimply` instance (or a tuple), unpacks it into `row` and `num_objects`, and performs two assertions. It subtracts `num_objects` from the number of objects in the specified row if both assertions pass.\n"
   ]
  },
  {
   "cell_type": "markdown",
   "metadata": {},
   "source": [
    "## Sample (and silly) startegies\n"
   ]
  },
  {
   "cell_type": "code",
   "execution_count": 10,
   "metadata": {},
   "outputs": [],
   "source": [
    "def pure_random(state: Nim) -> Nimply:\n",
    "    \"\"\"A completely random move\"\"\"\n",
    "    row = random.choice(\n",
    "        [r for r, c in enumerate(state.rows) if c > 0]\n",
    "    )  # select random non empty row\n",
    "    num_objects = random.randint(\n",
    "        1, state.rows[row]\n",
    "    )  # select random number of objects to be removed from row\n",
    "    return Nimply(\n",
    "        row, num_objects\n",
    "    )  # return new Nimply object for that row with updated number of objects"
   ]
  },
  {
   "cell_type": "code",
   "execution_count": 11,
   "metadata": {},
   "outputs": [],
   "source": [
    "def gabriele(state: Nim) -> Nimply:\n",
    "    \"\"\"Pick always the maximum possible number of the lowest row\"\"\"\n",
    "    possible_moves = [\n",
    "        (r, o) for r, c in enumerate(state.rows) for o in range(1, c + 1)\n",
    "    ]  # create list of all possible moves\n",
    "    return Nimply(\n",
    "        *max(possible_moves, key=lambda m: (-m[0], m[1]))\n",
    "    )  # return Nimply object with maximum number of objects from lowest row"
   ]
  },
  {
   "cell_type": "code",
   "execution_count": 12,
   "metadata": {},
   "outputs": [],
   "source": [
    "def adaptive_strategy(state: Nim) -> Nimply:\n",
    "    \"\"\"A strategy that can adapt its parameters\"\"\"\n",
    "    genome = {\"love_small\": 0.5}  # set initial value for love_small\n",
    "\n",
    "    if state.rows[0] <= 3:  # if lowest row has 3 or less objects\n",
    "        genome[\"love_small\"] = 0.9  # increase love_small\n",
    "    elif state.rows[0] >= 7:  # if lowest row has 7 or more objects\n",
    "        genome[\"love_small\"] = 0.1  # decrease love_small\n",
    "\n",
    "    row = min(\n",
    "        range(len(state.rows)), key=lambda r: state.rows[r]\n",
    "    )  # select row with lowest number of objects\n",
    "\n",
    "    num_objects = int(\n",
    "        genome[\"love_small\"] * state.rows[row]\n",
    "    )  # select number of objects to be removed from row\n",
    "\n",
    "    return Nimply(\n",
    "        row, num_objects\n",
    "    )  # return Nimply object for that row with updated number of objects"
   ]
  },
  {
   "cell_type": "code",
   "execution_count": 13,
   "metadata": {},
   "outputs": [],
   "source": [
    "import numpy as np\n",
    "\n",
    "\n",
    "def nim_sum(state: Nim) -> int:\n",
    "    tmp = np.array([tuple(int(x) for x in f\"{c:032b}\") for c in state.rows])\n",
    "    xor = tmp.sum(axis=0) % 2\n",
    "    return int(\"\".join(str(_) for _ in xor), base=2)\n",
    "\n",
    "\n",
    "def analize(raw: Nim) -> dict:\n",
    "    cooked = dict()\n",
    "    cooked[\"possible_moves\"] = dict()\n",
    "    for ply in (Nimply(r, o) for r, c in enumerate(raw.rows) for o in range(1, c + 1)):\n",
    "        tmp = deepcopy(raw)\n",
    "        tmp.nimming(ply)\n",
    "        cooked[\"possible_moves\"][ply] = nim_sum(tmp)\n",
    "    return cooked\n",
    "\n",
    "\n",
    "def optimal(state: Nim) -> Nimply:\n",
    "    analysis = analize(state)\n",
    "    logging.debug(f\"analysis:\\n{pformat(analysis)}\")\n",
    "    spicy_moves = [ply for ply, ns in analysis[\"possible_moves\"].items() if ns != 0]\n",
    "    if not spicy_moves:\n",
    "        spicy_moves = list(analysis[\"possible_moves\"].keys())\n",
    "    ply = random.choice(spicy_moves)\n",
    "    return ply"
   ]
  },
  {
   "cell_type": "markdown",
   "metadata": {},
   "source": [
    "## Oversimplified match"
   ]
  },
  {
   "cell_type": "code",
   "execution_count": 14,
   "metadata": {},
   "outputs": [
    {
     "name": "stderr",
     "output_type": "stream",
     "text": [
      "INFO:root:init : <1 3 5 7 9>\n",
      "INFO:root:ply: player 0 plays Nimply(row=1, num_objects=2)\n",
      "INFO:root:status: <1 1 5 7 9>\n",
      "INFO:root:ply: player 1 plays Nimply(row=3, num_objects=4)\n",
      "INFO:root:status: <1 1 5 3 9>\n",
      "INFO:root:ply: player 0 plays Nimply(row=2, num_objects=4)\n",
      "INFO:root:status: <1 1 1 3 9>\n",
      "INFO:root:ply: player 1 plays Nimply(row=3, num_objects=1)\n",
      "INFO:root:status: <1 1 1 2 9>\n",
      "INFO:root:ply: player 0 plays Nimply(row=1, num_objects=1)\n",
      "INFO:root:status: <1 0 1 2 9>\n",
      "INFO:root:ply: player 1 plays Nimply(row=3, num_objects=1)\n",
      "INFO:root:status: <1 0 1 1 9>\n",
      "INFO:root:ply: player 0 plays Nimply(row=4, num_objects=1)\n",
      "INFO:root:status: <1 0 1 1 8>\n",
      "INFO:root:ply: player 1 plays Nimply(row=4, num_objects=2)\n",
      "INFO:root:status: <1 0 1 1 6>\n",
      "INFO:root:ply: player 0 plays Nimply(row=3, num_objects=1)\n",
      "INFO:root:status: <1 0 1 0 6>\n",
      "INFO:root:ply: player 1 plays Nimply(row=2, num_objects=1)\n",
      "INFO:root:status: <1 0 0 0 6>\n",
      "INFO:root:ply: player 0 plays Nimply(row=0, num_objects=1)\n",
      "INFO:root:status: <0 0 0 0 6>\n",
      "INFO:root:ply: player 1 plays Nimply(row=4, num_objects=1)\n",
      "INFO:root:status: <0 0 0 0 5>\n",
      "INFO:root:ply: player 0 plays Nimply(row=4, num_objects=3)\n",
      "INFO:root:status: <0 0 0 0 2>\n",
      "INFO:root:ply: player 1 plays Nimply(row=4, num_objects=1)\n",
      "INFO:root:status: <0 0 0 0 1>\n",
      "INFO:root:ply: player 0 plays Nimply(row=4, num_objects=1)\n",
      "INFO:root:status: <0 0 0 0 0>\n",
      "INFO:root:status: Player 1 won!\n"
     ]
    }
   ],
   "source": [
    "logging.getLogger().setLevel(logging.INFO)\n",
    "\n",
    "# genome={\"target_preference\":0.5}\n",
    "# adaptive = adaptive_strategy(genome)\n",
    "strategy = (pure_random, optimal)\n",
    "\n",
    "nim = Nim(5)\n",
    "logging.info(f\"init : {nim}\")\n",
    "player = 0\n",
    "while nim:\n",
    "    ply = strategy[player](nim)\n",
    "    logging.info(f\"ply: player {player} plays {ply}\")\n",
    "    nim.nimming(ply)\n",
    "    logging.info(f\"status: {nim}\")\n",
    "    player = 1 - player\n",
    "logging.info(f\"status: Player {player} won!\")"
   ]
  },
  {
   "cell_type": "markdown",
   "metadata": {},
   "source": [
    "# ES strategy definition"
   ]
  },
  {
   "cell_type": "code",
   "execution_count": 15,
   "metadata": {},
   "outputs": [],
   "source": [
    "from tqdm import tqdm\n",
    "import numpy as np\n",
    "import random"
   ]
  },
  {
   "cell_type": "code",
   "execution_count": 16,
   "metadata": {},
   "outputs": [],
   "source": [
    "# Strategy rules\n",
    "N_RULES = 6\n",
    "N_HEAP_RULES = 2\n",
    "N_OBJ_RULES = 4\n",
    "\n",
    "# ES parameters\n",
    "N_GEN = 200\n",
    "POPULATION_SIZE = 50\n",
    "N_PARENTS = POPULATION_SIZE//3\n",
    "MUTATION_RATE = 0.15\n",
    "FITNESS_MATCHES = 200\n",
    "TOURNAMENT_SIZE = 25\n",
    "\n",
    "# Game dimension\n",
    "NIM_DIM = 5"
   ]
  },
  {
   "cell_type": "markdown",
   "metadata": {},
   "source": [
    "## Rule base strategy"
   ]
  },
  {
   "cell_type": "code",
   "execution_count": 17,
   "metadata": {},
   "outputs": [],
   "source": [
    "def rule_based_strategy(nim, weights):\n",
    "    heap_norm_factor = 1/sum(weights[:N_HEAP_RULES])\n",
    "\n",
    "    for i, w in enumerate(weights[:N_HEAP_RULES]):\n",
    "        weights[i] = w*heap_norm_factor\n",
    "\n",
    "    obj_norm_factor = 1/sum(weights[N_HEAP_RULES:])\n",
    "\n",
    "    for i, w in enumerate(weights[N_HEAP_RULES:]):\n",
    "        weights[i+N_HEAP_RULES] = w*obj_norm_factor\n",
    "\n",
    "    heap_rule = np.random.choice([i for i in range(N_HEAP_RULES)], 1, p=weights[:N_HEAP_RULES])[0]\n",
    "    obj_rule = np.random.choice([i for i in range(N_OBJ_RULES)], 1, p=weights[N_HEAP_RULES:])[0]\n",
    "\n",
    "    row = 0\n",
    "\n",
    "    if heap_rule == 0:\n",
    "        row = random.choice([r for r, c in enumerate(nim.rows) if c > 0])\n",
    "    elif heap_rule == 1:\n",
    "        row = max([(r, c) for r, c in enumerate(nim.rows) if c > 0], key=lambda e:e[1])[0]\n",
    "    \n",
    "\n",
    "    num_objects = 1\n",
    "\n",
    "    if obj_rule == 0:\n",
    "        num_objects = random.randint(1, nim.rows[row])\n",
    "    if obj_rule == 1:\n",
    "        num_objects = random.choice([i for i in range(nim.rows[row]+1) if i%2!=0])\n",
    "    if obj_rule == 2:\n",
    "        primes = []\n",
    "        for i in range(1, nim.rows[row]+1):\n",
    "            prime = True\n",
    "            for j in range(2, i):\n",
    "                if i%j==0:\n",
    "                    prime = False\n",
    "                    break\n",
    "            if prime:\n",
    "                primes.append(i)\n",
    "        num_objects = random.choice(primes)\n",
    "    if obj_rule == 3:\n",
    "        num_objects = max(1, nim.rows[row]-1)\n",
    "\n",
    "    return Nimply(row, num_objects)\n"
   ]
  },
  {
   "cell_type": "markdown",
   "metadata": {},
   "source": [
    "## Generate random population"
   ]
  },
  {
   "cell_type": "code",
   "execution_count": 18,
   "metadata": {},
   "outputs": [],
   "source": [
    "def generate_random_agent():\n",
    "    return {\n",
    "        \"weights\": np.array([0.5 for _ in range(N_RULES)]),\n",
    "        \"fitness\": 0\n",
    "    }\n",
    "\n",
    "def generate_population(population_size=POPULATION_SIZE):\n",
    "    population = [generate_random_agent() for _ in range(population_size)]\n",
    "    return population"
   ]
  },
  {
   "cell_type": "markdown",
   "metadata": {},
   "source": [
    "## Fitness function"
   ]
  },
  {
   "cell_type": "code",
   "execution_count": 19,
   "metadata": {},
   "outputs": [],
   "source": [
    "def nim_match(agent, difficulty):\n",
    "    vs_agent = np.random.choice((pure_random, optimal), 1, p=[1-difficulty, difficulty])[0]\n",
    "    \n",
    "    strategy = (agent, vs_agent)\n",
    "\n",
    "    nim = Nim(NIM_DIM)\n",
    "    player = random.randint(0, 1)\n",
    "    while nim:\n",
    "        ply = strategy[player](nim)\n",
    "        nim.nimming(ply)\n",
    "        player = 1 - player\n",
    "\n",
    "    return 1 - player"
   ]
  },
  {
   "cell_type": "code",
   "execution_count": 20,
   "metadata": {},
   "outputs": [],
   "source": [
    "def fitness(agent, difficulty=0.5, num_matches=FITNESS_MATCHES):\n",
    "    runs = [nim_match(agent, difficulty) for _ in range(num_matches)]\n",
    "    return np.array(runs).mean()\n",
    "\n",
    "def evaluate_fitness(population, generation):\n",
    "    difficulty = min(1., (N_GEN/3 + generation)/N_GEN)\n",
    "    for individual in population:\n",
    "        individual[\"fitness\"] = fitness(lambda x: rule_based_strategy(x, weights=individual[\"weights\"]), difficulty=difficulty)\n",
    "    return population"
   ]
  },
  {
   "cell_type": "markdown",
   "metadata": {},
   "source": [
    "## Mutation"
   ]
  },
  {
   "cell_type": "code",
   "execution_count": 21,
   "metadata": {},
   "outputs": [],
   "source": [
    "def mutate(weights, mutation_rate=1):\n",
    "    if random.random() < mutation_rate:\n",
    "        weights[random.randint(0, N_RULES-1)] += np.random.normal(loc=0.0, scale=0.2)\n",
    "        weights=np.clip(weights, 0, 1)\n",
    "    return weights\n",
    "\n",
    "def mutate_population(population, mutation_rate=MUTATION_RATE):\n",
    "    for i in population:\n",
    "        i[\"weights\"] = mutate(i[\"weights\"], mutation_rate)\n",
    "    return population"
   ]
  },
  {
   "cell_type": "markdown",
   "metadata": {},
   "source": [
    "## Crossover"
   ]
  },
  {
   "cell_type": "code",
   "execution_count": 22,
   "metadata": {},
   "outputs": [],
   "source": [
    "def reproduce(parent1, parent2):\n",
    "    new_weights=[]\n",
    "    for p1, p2 in zip(parent1[\"weights\"], parent2[\"weights\"]):\n",
    "        new_weights.append(random.choice((p1, p2)))\n",
    "    return {\n",
    "        \"weights\": np.array(new_weights),\n",
    "        \"fitness\": 0\n",
    "        }\n",
    "\n",
    "def reproduce_population(parents, population_size=POPULATION_SIZE):\n",
    "    population = []\n",
    "    while len(population) + len(parents) < population_size:\n",
    "        parent1, parent2 = random.sample(parents, 2)\n",
    "        population.append(reproduce(parent1, parent2))\n",
    "    return parents + population"
   ]
  },
  {
   "cell_type": "markdown",
   "metadata": {},
   "source": [
    "## Parent selection"
   ]
  },
  {
   "cell_type": "code",
   "execution_count": 23,
   "metadata": {},
   "outputs": [],
   "source": [
    "def tournament_selection(population, tournament_size=TOURNAMENT_SIZE):\n",
    "    individuals = random.sample(population, tournament_size)\n",
    "    selected_i = max(individuals, key=lambda i: i[\"fitness\"])\n",
    "    return selected_i\n",
    "\n",
    "def roulette_wheel_selection(population):\n",
    "    sum_fitness = sum([i[\"fitness\"] for i in population])\n",
    "\n",
    "    random_threshold = random.uniform(0, sum_fitness)\n",
    "\n",
    "    cum_fitness = 0\n",
    "\n",
    "    for i in population:\n",
    "        cum_fitness += i[\"fitness\"]\n",
    "        if cum_fitness > random_threshold:\n",
    "            return i\n",
    "        \n",
    "    return random.choice(population)\n",
    "\n",
    "def parent_selection(population, n_parents=N_PARENTS, tournament_size=TOURNAMENT_SIZE):\n",
    "    selected_parents = []\n",
    "    for _ in range(n_parents):\n",
    "        selected_parents.append(tournament_selection(population, tournament_size))\n",
    "    return selected_parents\n",
    "\n",
    "def parent_best_selection(population, n_parents=N_PARENTS):\n",
    "    return sorted(population, key=lambda x: x[\"fitness\"], reverse=True)[:n_parents]\n",
    "\n"
   ]
  },
  {
   "cell_type": "markdown",
   "metadata": {},
   "source": [
    "## Plot functions"
   ]
  },
  {
   "cell_type": "code",
   "execution_count": 33,
   "metadata": {},
   "outputs": [
    {
     "data": {
      "text/plain": [
       "<Figure size 640x480 with 0 Axes>"
      ]
     },
     "metadata": {},
     "output_type": "display_data"
    }
   ],
   "source": [
    "import matplotlib.pyplot as plt\n",
    "from matplotlib.animation import FuncAnimation\n",
    "from IPython import display\n",
    "import seaborn as sns\n",
    "\n",
    "plt.ion()\n",
    "plt.draw()\n",
    "plt.pause(1)\n",
    "\n",
    "def plot1(max_scores, min_scores, mean_scores):\n",
    "    display.clear_output(wait=True)\n",
    "    plt.clf()\n",
    "    plt.title(\"Nim\")\n",
    "    plt.xlabel(\"Generation\")\n",
    "    plt.ylabel(\"Score\")\n",
    "    plt.plot(max_scores, label=\"Max scores\")\n",
    "    plt.plot(min_scores, label=\"Min scores\")\n",
    "    plt.plot(mean_scores, label=\"Mean scores\")\n",
    "    plt.ylim(ymin=0)\n",
    "    plt.text(len(max_scores)-1, max_scores[-1], str(max_scores[-1]))\n",
    "    plt.text(len(min_scores)-1, min_scores[-1], str(min_scores[-1]))\n",
    "    plt.text(len(mean_scores)-1, mean_scores[-1], str(mean_scores[-1]))\n",
    "    plt.legend()\n",
    "    plt.pause(0.25)\n",
    "\n",
    "def plot2(fitness_hist):\n",
    "    display.clear_output(wait=True)\n",
    "    plt.clf()\n",
    "    plt.title(\"Nim\")\n",
    "    plt.xlabel(\"Generation\")\n",
    "    plt.ylabel(\"Score\")\n",
    "\n",
    "    plt.boxplot(fitness_hist, showfliers=False, vert=True, patch_artist=True)\n",
    "\n",
    "    plt.ylim(ymin=0)\n",
    "    plt.pause(0.1)\n",
    "\n",
    "def plot_heatmap(best_weights_hist):\n",
    "    for weights in best_weights_hist:\n",
    "        display.clear_output(wait=True)\n",
    "        plt.clf()\n",
    "        plt.title(\"Nim\")\n",
    "        plt.xlabel(\"Obj rule\")\n",
    "        plt.ylabel(\"Heap rule\")\n",
    "\n",
    "        heap_norm_factor = 1/sum(weights[:N_HEAP_RULES])\n",
    "\n",
    "        for i, w in enumerate(weights[:N_HEAP_RULES]):\n",
    "            weights[i] = w*heap_norm_factor\n",
    "\n",
    "        obj_norm_factor = 1/sum(weights[N_HEAP_RULES:])\n",
    "\n",
    "        for i, w in enumerate(weights[N_HEAP_RULES:]):\n",
    "            weights[i+N_HEAP_RULES] = w*obj_norm_factor\n",
    "\n",
    "\n",
    "        data = [\n",
    "            [weights[0]*weights[N_HEAP_RULES+i] for i in range(N_OBJ_RULES)],\n",
    "            [weights[1]*weights[N_HEAP_RULES+i] for i in range(N_OBJ_RULES)]\n",
    "            ]\n",
    "\n",
    "        sns.set()\n",
    "        sns.heatmap(np.array(data), cmap=\"YlGnBu\", annot=True, fmt=\".2f\", cbar_kws={'label': 'Values'})\n",
    "\n",
    "        plt.pause(0.001)\n",
    "\n",
    "def update(frame, best_weights_hist):\n",
    "    weights = best_weights_hist[frame]\n",
    "\n",
    "    plt.clf()\n",
    "    plt.title(\"Nim\")\n",
    "    plt.xlabel(\"Obj rule\")\n",
    "    plt.ylabel(\"Heap rule\")\n",
    "\n",
    "    heap_norm_factor = 1/sum(weights[:N_HEAP_RULES])\n",
    "\n",
    "    for i, w in enumerate(weights[:N_HEAP_RULES]):\n",
    "        weights[i] = w*heap_norm_factor\n",
    "\n",
    "    obj_norm_factor = 1/sum(weights[N_HEAP_RULES:])\n",
    "\n",
    "    for i, w in enumerate(weights[N_HEAP_RULES:]):\n",
    "        weights[i+N_HEAP_RULES] = w*obj_norm_factor\n",
    "    \n",
    "    data = [\n",
    "            [weights[0]*weights[N_HEAP_RULES+i] for i in range(N_OBJ_RULES)],\n",
    "            [weights[1]*weights[N_HEAP_RULES+i] for i in range(N_OBJ_RULES)]\n",
    "            ]\n",
    "\n",
    "    sns.set()\n",
    "    sns.heatmap(np.array(data), cmap=\"YlGnBu\", annot=True, fmt=\".2f\", cbar_kws={'label': 'Values'})\n",
    "\n",
    "\n",
    "def create_gif_heatmap(best_weights_hist):\n",
    "    fig, ax = plt.subplots()\n",
    "    animation = FuncAnimation(fig, update, fargs=(best_weights_hist,), frames=len(best_weights_hist), repeat=False)\n",
    "    animation.save('rules_heatmap.gif', writer='pillow', fps=10)\n"
   ]
  },
  {
   "cell_type": "markdown",
   "metadata": {},
   "source": [
    "# Run ES algorithm to find best agent"
   ]
  },
  {
   "cell_type": "code",
   "execution_count": 25,
   "metadata": {},
   "outputs": [],
   "source": [
    "def simulation(n_generations=N_GEN, population_size=POPULATION_SIZE, n_parents=N_PARENTS, tournament_size=TOURNAMENT_SIZE, mutation_rate=MUTATION_RATE):\n",
    "    population = generate_population(population_size)\n",
    "    population = mutate_population(population, mutation_rate)\n",
    "\n",
    "    max_hist = []\n",
    "    mean_hist = []\n",
    "    min_hist = []\n",
    "    fitness_hist = []\n",
    "    best_weights_hist = []\n",
    "\n",
    "    for generation in tqdm(range(n_generations)):\n",
    "        population = evaluate_fitness(population, generation)\n",
    "\n",
    "        fitness_scores = [i[\"fitness\"] for i in population]\n",
    "        i = np.argmax(fitness_scores)\n",
    "        best_weights_hist.append(population[i][\"weights\"])\n",
    "\n",
    "\n",
    "\n",
    "        fitness_hist.append(fitness_scores)\n",
    "        \n",
    "        max_hist.append(np.array(fitness_scores).max())\n",
    "        mean_hist.append(np.array(fitness_scores).mean())\n",
    "        min_hist.append(np.array(fitness_scores).min())\n",
    "\n",
    "        # plot1(max_hist, min_hist, mean_hist)\n",
    "        # plot2(fitness_hist)\n",
    "\n",
    "        # parents = parent_selection(population, n_parents, tournament_size)\n",
    "        parents = parent_best_selection(population, n_parents)\n",
    "\n",
    "        population = reproduce_population(parents, population_size)\n",
    "        \n",
    "        population = mutate_population(population, mutation_rate)\n",
    "    \n",
    "    return population, fitness_hist, max_hist, mean_hist, min_hist, best_weights_hist\n",
    "    "
   ]
  },
  {
   "cell_type": "code",
   "execution_count": 26,
   "metadata": {},
   "outputs": [
    {
     "name": "stderr",
     "output_type": "stream",
     "text": [
      "100%|██████████| 200/200 [1:05:05<00:00, 19.53s/it]\n"
     ]
    }
   ],
   "source": [
    "population, fitness_hist, max_hist, mean_hist, min_hist, best_weights_hist = simulation()"
   ]
  },
  {
   "cell_type": "markdown",
   "metadata": {},
   "source": [
    "# Plot and relevant data"
   ]
  },
  {
   "cell_type": "markdown",
   "metadata": {},
   "source": [
    "The growing of the curve is desending until a certain point because of the growing of difficulty.\n",
    "When the difficulty is the maximum, and so only optimal strategy is selected to evaluate the fitness, then the maximum fitness that can be reached is 0.5"
   ]
  },
  {
   "cell_type": "code",
   "execution_count": 27,
   "metadata": {},
   "outputs": [
    {
     "data": {
      "image/png": "[encoded data removed]",
      "text/plain": [
       "<Figure size 640x480 with 1 Axes>"
      ]
     },
     "metadata": {},
     "output_type": "display_data"
    }
   ],
   "source": [
    "plot1(max_hist, min_hist, mean_hist)"
   ]
  },
  {
   "cell_type": "code",
   "execution_count": 28,
   "metadata": {},
   "outputs": [
    {
     "data": {
      "image/png": "[encoded data removed]",
      "text/plain": [
       "<Figure size 640x480 with 1 Axes>"
      ]
     },
     "metadata": {},
     "output_type": "display_data"
    }
   ],
   "source": [
    "plot2(fitness_hist)"
   ]
  },
  {
   "cell_type": "code",
   "execution_count": 29,
   "metadata": {},
   "outputs": [
    {
     "data": {
      "image/png": "[encoded data removed]",
      "text/plain": [
       "<Figure size 640x480 with 2 Axes>"
      ]
     },
     "metadata": {},
     "output_type": "display_data"
    }
   ],
   "source": [
    "plot_heatmap(best_weights_hist)"
   ]
  },
  {
   "cell_type": "code",
   "execution_count": null,
   "metadata": {},
   "outputs": [],
   "source": [
    "create_gif_heatmap(best_weights_hist)"
   ]
  },
  {
   "cell_type": "code",
   "execution_count": null,
   "metadata": {},
   "outputs": [
    {
     "name": "stdout",
     "output_type": "stream",
     "text": [
      "Best Agent = [0. 1. 0. 0. 0. 1.]\n",
      "Fitness = 0.445\n"
     ]
    }
   ],
   "source": [
    "fitness_scores = [fitness(lambda x: rule_based_strategy(x, weights=i[\"weights\"])) for i in population]\n",
    "i = np.argmax(fitness_scores)\n",
    "best_weights = population[i][\"weights\"]\n",
    "print(\"Best Agent =\", best_weights)\n",
    "print(\"Fitness =\", fitness(lambda x: rule_based_strategy(x, weights=best_weights), num_matches=1000, difficulty=1.0))"
   ]
  },
  {
   "cell_type": "markdown",
   "metadata": {},
   "source": [
    "# Real match"
   ]
  },
  {
   "cell_type": "code",
   "execution_count": null,
   "metadata": {},
   "outputs": [
    {
     "name": "stdout",
     "output_type": "stream",
     "text": [
      "Win rate = 0.465\n"
     ]
    }
   ],
   "source": [
    "logging.getLogger().setLevel(logging.INFO)\n",
    "\n",
    "MATCH_NUM = 1000\n",
    "\n",
    "strategy = (lambda x: rule_based_strategy(x, weights=best_weights), optimal)\n",
    "\n",
    "res = []\n",
    "for _ in range(MATCH_NUM):\n",
    "    nim = Nim(NIM_DIM)\n",
    "    player = 0\n",
    "    while nim:\n",
    "        ply = strategy[player](nim)\n",
    "        nim.nimming(ply)\n",
    "        player = 1 - player\n",
    "    res.append(1 - player)\n",
    "\n",
    "print(f\"Win rate = {np.array(res).mean()}\")"
   ]
  }
 ],
 "metadata": {
  "kernelspec": {
   "display_name": "Python 3.10.7 ('ci22-dPIXJ0_o-py3.10')",
   "language": "python",
   "name": "python3"
  },
  "language_info": {
   "codemirror_mode": {
    "name": "ipython",
    "version": 3
   },
   "file_extension": ".py",
   "mimetype": "text/x-python",
   "name": "python",
   "nbconvert_exporter": "python",
   "pygments_lexer": "ipython3",
   "version": "3.11.5"
  },
  "vscode": {
   "interpreter": {
    "hash": "10197e8e2f2aa67e2c349105091c77f4cd384fce4877865f002d9ec653f96bc0"
   }
  }
 },
 "nbformat": 4,
 "nbformat_minor": 2
}
